{
 "cells": [
  {
   "cell_type": "markdown",
   "metadata": {},
   "source": [
    "# Big Data\n",
    "\n",
    "### Machine Learning with Dask\n",
    "\n",
    "* David Booker-Earley\n",
    "* First attempt: 6/3/2020\n",
    "* Most recent attempt: 7/2/2020\n",
    "\n",
    "<!-- * Checkpoint 5, Module 37 -->\n",
    "\n",
    "---"
   ]
  },
  {
   "cell_type": "code",
   "execution_count": 1,
   "metadata": {},
   "outputs": [
    {
     "name": "stdout",
     "output_type": "stream",
     "text": [
      "Collecting dask[complete]\n",
      "  Downloading dask-2.20.0-py3-none-any.whl (826 kB)\n",
      "\u001b[K     |████████████████████████████████| 826 kB 10.9 MB/s eta 0:00:01\n",
      "\u001b[?25hRequirement already satisfied, skipping upgrade: pyyaml in /opt/conda/lib/python3.7/site-packages (from dask[complete]) (5.3.1)\n",
      "Requirement already satisfied, skipping upgrade: partd>=0.3.10; extra == \"complete\" in /opt/conda/lib/python3.7/site-packages (from dask[complete]) (1.1.0)\n",
      "Requirement already satisfied, skipping upgrade: bokeh>=1.0.0; extra == \"complete\" in /opt/conda/lib/python3.7/site-packages (from dask[complete]) (2.1.1)\n",
      "Requirement already satisfied, skipping upgrade: numpy>=1.13.0; extra == \"complete\" in /opt/conda/lib/python3.7/site-packages (from dask[complete]) (1.19.0)\n",
      "Requirement already satisfied, skipping upgrade: distributed>=2.0; extra == \"complete\" in /opt/conda/lib/python3.7/site-packages (from dask[complete]) (2.19.0)\n",
      "Requirement already satisfied, skipping upgrade: fsspec>=0.6.0; extra == \"complete\" in /opt/conda/lib/python3.7/site-packages (from dask[complete]) (0.7.4)\n",
      "Requirement already satisfied, skipping upgrade: cloudpickle>=0.2.2; extra == \"complete\" in /opt/conda/lib/python3.7/site-packages (from dask[complete]) (1.5.0)\n",
      "Requirement already satisfied, skipping upgrade: toolz>=0.8.2; extra == \"complete\" in /opt/conda/lib/python3.7/site-packages (from dask[complete]) (0.10.0)\n",
      "Requirement already satisfied, skipping upgrade: pandas>=0.23.0; extra == \"complete\" in /opt/conda/lib/python3.7/site-packages (from dask[complete]) (0.24.1)\n",
      "Requirement already satisfied, skipping upgrade: locket in /opt/conda/lib/python3.7/site-packages (from partd>=0.3.10; extra == \"complete\"->dask[complete]) (0.2.0)\n",
      "Requirement already satisfied, skipping upgrade: pillow>=4.0 in /opt/conda/lib/python3.7/site-packages (from bokeh>=1.0.0; extra == \"complete\"->dask[complete]) (7.1.2)\n",
      "Requirement already satisfied, skipping upgrade: packaging>=16.8 in /opt/conda/lib/python3.7/site-packages (from bokeh>=1.0.0; extra == \"complete\"->dask[complete]) (20.4)\n",
      "Requirement already satisfied, skipping upgrade: python-dateutil>=2.1 in /opt/conda/lib/python3.7/site-packages (from bokeh>=1.0.0; extra == \"complete\"->dask[complete]) (2.8.1)\n",
      "Requirement already satisfied, skipping upgrade: Jinja2>=2.7 in /opt/conda/lib/python3.7/site-packages (from bokeh>=1.0.0; extra == \"complete\"->dask[complete]) (2.11.2)\n",
      "Requirement already satisfied, skipping upgrade: tornado>=5.1 in /opt/conda/lib/python3.7/site-packages (from bokeh>=1.0.0; extra == \"complete\"->dask[complete]) (6.0.4)\n",
      "Requirement already satisfied, skipping upgrade: typing-extensions>=3.7.4 in /opt/conda/lib/python3.7/site-packages (from bokeh>=1.0.0; extra == \"complete\"->dask[complete]) (3.7.4.2)\n",
      "Requirement already satisfied, skipping upgrade: sortedcontainers!=2.0.0,!=2.0.1 in /opt/conda/lib/python3.7/site-packages (from distributed>=2.0; extra == \"complete\"->dask[complete]) (2.2.2)\n",
      "Requirement already satisfied, skipping upgrade: zict>=0.1.3 in /opt/conda/lib/python3.7/site-packages (from distributed>=2.0; extra == \"complete\"->dask[complete]) (2.0.0)\n",
      "Requirement already satisfied, skipping upgrade: msgpack>=0.6.0 in /opt/conda/lib/python3.7/site-packages (from distributed>=2.0; extra == \"complete\"->dask[complete]) (1.0.0)\n",
      "Requirement already satisfied, skipping upgrade: tblib>=1.6.0 in /opt/conda/lib/python3.7/site-packages (from distributed>=2.0; extra == \"complete\"->dask[complete]) (1.6.0)\n",
      "Requirement already satisfied, skipping upgrade: setuptools in /opt/conda/lib/python3.7/site-packages (from distributed>=2.0; extra == \"complete\"->dask[complete]) (46.1.3.post20200325)\n",
      "Requirement already satisfied, skipping upgrade: psutil>=5.0 in /opt/conda/lib/python3.7/site-packages (from distributed>=2.0; extra == \"complete\"->dask[complete]) (5.7.0)\n",
      "Requirement already satisfied, skipping upgrade: click>=6.6 in /opt/conda/lib/python3.7/site-packages (from distributed>=2.0; extra == \"complete\"->dask[complete]) (7.1.2)\n",
      "Requirement already satisfied, skipping upgrade: pytz>=2011k in /opt/conda/lib/python3.7/site-packages (from pandas>=0.23.0; extra == \"complete\"->dask[complete]) (2020.1)\n",
      "Requirement already satisfied, skipping upgrade: six in /opt/conda/lib/python3.7/site-packages (from packaging>=16.8->bokeh>=1.0.0; extra == \"complete\"->dask[complete]) (1.12.0)\n",
      "Requirement already satisfied, skipping upgrade: pyparsing>=2.0.2 in /opt/conda/lib/python3.7/site-packages (from packaging>=16.8->bokeh>=1.0.0; extra == \"complete\"->dask[complete]) (2.4.7)\n",
      "Requirement already satisfied, skipping upgrade: MarkupSafe>=0.23 in /opt/conda/lib/python3.7/site-packages (from Jinja2>=2.7->bokeh>=1.0.0; extra == \"complete\"->dask[complete]) (1.1.1)\n",
      "Requirement already satisfied, skipping upgrade: heapdict in /opt/conda/lib/python3.7/site-packages (from zict>=0.1.3->distributed>=2.0; extra == \"complete\"->dask[complete]) (1.0.1)\n",
      "Installing collected packages: dask\n",
      "  Attempting uninstall: dask\n",
      "    Found existing installation: dask 2.19.0\n",
      "    Uninstalling dask-2.19.0:\n",
      "      Successfully uninstalled dask-2.19.0\n",
      "Successfully installed dask-2.20.0\n"
     ]
    }
   ],
   "source": [
    "!pip install --upgrade \"dask[complete]\""
   ]
  },
  {
   "cell_type": "code",
   "execution_count": 2,
   "metadata": {},
   "outputs": [
    {
     "name": "stdout",
     "output_type": "stream",
     "text": [
      "Requirement already satisfied: dask-ml in /opt/conda/lib/python3.7/site-packages (1.5.0)\n",
      "Requirement already satisfied: dask[array,dataframe]>=2.4.0 in /opt/conda/lib/python3.7/site-packages (from dask-ml) (2.20.0)\n",
      "Requirement already satisfied: dask-glm>=0.2.0 in /opt/conda/lib/python3.7/site-packages (from dask-ml) (0.2.0)\n",
      "Requirement already satisfied: distributed>=2.4.0 in /opt/conda/lib/python3.7/site-packages (from dask-ml) (2.19.0)\n",
      "Requirement already satisfied: numpy>=1.17.3 in /opt/conda/lib/python3.7/site-packages (from dask-ml) (1.19.0)\n",
      "Requirement already satisfied: scikit-learn>=0.23 in /opt/conda/lib/python3.7/site-packages (from dask-ml) (0.23.1)\n",
      "Requirement already satisfied: multipledispatch>=0.4.9 in /opt/conda/lib/python3.7/site-packages (from dask-ml) (0.6.0)\n",
      "Requirement already satisfied: pandas>=0.23.4 in /opt/conda/lib/python3.7/site-packages (from dask-ml) (0.24.1)\n",
      "Requirement already satisfied: numba in /opt/conda/lib/python3.7/site-packages (from dask-ml) (0.50.1)\n",
      "Requirement already satisfied: scipy in /opt/conda/lib/python3.7/site-packages (from dask-ml) (1.2.0)\n",
      "Requirement already satisfied: packaging in /opt/conda/lib/python3.7/site-packages (from dask-ml) (20.4)\n",
      "Requirement already satisfied: pyyaml in /opt/conda/lib/python3.7/site-packages (from dask[array,dataframe]>=2.4.0->dask-ml) (5.3.1)\n",
      "Requirement already satisfied: toolz>=0.8.2; extra == \"array\" in /opt/conda/lib/python3.7/site-packages (from dask[array,dataframe]>=2.4.0->dask-ml) (0.10.0)\n",
      "Requirement already satisfied: partd>=0.3.10; extra == \"dataframe\" in /opt/conda/lib/python3.7/site-packages (from dask[array,dataframe]>=2.4.0->dask-ml) (1.1.0)\n",
      "Requirement already satisfied: fsspec>=0.6.0; extra == \"dataframe\" in /opt/conda/lib/python3.7/site-packages (from dask[array,dataframe]>=2.4.0->dask-ml) (0.7.4)\n",
      "Requirement already satisfied: cloudpickle>=0.2.2 in /opt/conda/lib/python3.7/site-packages (from dask-glm>=0.2.0->dask-ml) (1.5.0)\n",
      "Requirement already satisfied: sortedcontainers!=2.0.0,!=2.0.1 in /opt/conda/lib/python3.7/site-packages (from distributed>=2.4.0->dask-ml) (2.2.2)\n",
      "Requirement already satisfied: tblib>=1.6.0 in /opt/conda/lib/python3.7/site-packages (from distributed>=2.4.0->dask-ml) (1.6.0)\n",
      "Requirement already satisfied: click>=6.6 in /opt/conda/lib/python3.7/site-packages (from distributed>=2.4.0->dask-ml) (7.1.2)\n",
      "Requirement already satisfied: msgpack>=0.6.0 in /opt/conda/lib/python3.7/site-packages (from distributed>=2.4.0->dask-ml) (1.0.0)\n",
      "Requirement already satisfied: zict>=0.1.3 in /opt/conda/lib/python3.7/site-packages (from distributed>=2.4.0->dask-ml) (2.0.0)\n",
      "Requirement already satisfied: tornado>=5; python_version < \"3.8\" in /opt/conda/lib/python3.7/site-packages (from distributed>=2.4.0->dask-ml) (6.0.4)\n",
      "Requirement already satisfied: psutil>=5.0 in /opt/conda/lib/python3.7/site-packages (from distributed>=2.4.0->dask-ml) (5.7.0)\n",
      "Requirement already satisfied: setuptools in /opt/conda/lib/python3.7/site-packages (from distributed>=2.4.0->dask-ml) (46.1.3.post20200325)\n",
      "Requirement already satisfied: joblib>=0.11 in /opt/conda/lib/python3.7/site-packages (from scikit-learn>=0.23->dask-ml) (0.16.0)\n",
      "Requirement already satisfied: threadpoolctl>=2.0.0 in /opt/conda/lib/python3.7/site-packages (from scikit-learn>=0.23->dask-ml) (2.1.0)\n",
      "Requirement already satisfied: six in /opt/conda/lib/python3.7/site-packages (from multipledispatch>=0.4.9->dask-ml) (1.12.0)\n",
      "Requirement already satisfied: pytz>=2011k in /opt/conda/lib/python3.7/site-packages (from pandas>=0.23.4->dask-ml) (2020.1)\n",
      "Requirement already satisfied: python-dateutil>=2.5.0 in /opt/conda/lib/python3.7/site-packages (from pandas>=0.23.4->dask-ml) (2.8.1)\n",
      "Requirement already satisfied: llvmlite<0.34,>=0.33.0.dev0 in /opt/conda/lib/python3.7/site-packages (from numba->dask-ml) (0.33.0)\n",
      "Requirement already satisfied: pyparsing>=2.0.2 in /opt/conda/lib/python3.7/site-packages (from packaging->dask-ml) (2.4.7)\n",
      "Requirement already satisfied: locket in /opt/conda/lib/python3.7/site-packages (from partd>=0.3.10; extra == \"dataframe\"->dask[array,dataframe]>=2.4.0->dask-ml) (0.2.0)\n",
      "Requirement already satisfied: heapdict in /opt/conda/lib/python3.7/site-packages (from zict>=0.1.3->distributed>=2.4.0->dask-ml) (1.0.1)\n"
     ]
    }
   ],
   "source": [
    "!pip install dask-ml"
   ]
  },
  {
   "cell_type": "code",
   "execution_count": 3,
   "metadata": {},
   "outputs": [],
   "source": [
    "import warnings\n",
    "warnings.filterwarnings(\"ignore\")\n",
    "\n",
    "\n",
    "## imports to load and (pre-)process data\n",
    "from dask.distributed import Client, progress\n",
    "from dask_ml.model_selection import train_test_split\n",
    "import dask.dataframe as dd\n",
    "import joblib\n",
    "import pandas as pd\n",
    "import time\n",
    "\n",
    "\n",
    "## imports for ML models and evaluation\n",
    "from sklearn.ensemble import RandomForestClassifier\n",
    "from sklearn.linear_model import LogisticRegression\n",
    "from sklearn.model_selection import cross_validate, GridSearchCV\n",
    "# from dask_ml.model_selection import GridSearchCV\n",
    "from sklearn.metrics import roc_auc_score"
   ]
  },
  {
   "cell_type": "code",
   "execution_count": 4,
   "metadata": {},
   "outputs": [
    {
     "data": {
      "text/html": [
       "<table style=\"border: 2px solid white;\">\n",
       "<tr>\n",
       "<td style=\"vertical-align: top; border: 0px solid white\">\n",
       "<h3 style=\"text-align: left;\">Client</h3>\n",
       "<ul style=\"text-align: left; list-style: none; margin: 0; padding: 0;\">\n",
       "  <li><b>Scheduler: </b>tcp://127.0.0.1:32933</li>\n",
       "  <li><b>Dashboard: </b><a href='http://127.0.0.1:8787/status' target='_blank'>http://127.0.0.1:8787/status</a></li>\n",
       "</ul>\n",
       "</td>\n",
       "<td style=\"vertical-align: top; border: 0px solid white\">\n",
       "<h3 style=\"text-align: left;\">Cluster</h3>\n",
       "<ul style=\"text-align: left; list-style:none; margin: 0; padding: 0;\">\n",
       "  <li><b>Workers: </b>4</li>\n",
       "  <li><b>Cores: </b>8</li>\n",
       "  <li><b>Memory: </b>8.00 GB</li>\n",
       "</ul>\n",
       "</td>\n",
       "</tr>\n",
       "</table>"
      ],
      "text/plain": [
       "<Client: 'tcp://127.0.0.1:32933' processes=4 threads=8, memory=8.00 GB>"
      ]
     },
     "execution_count": 4,
     "metadata": {},
     "output_type": "execute_result"
    }
   ],
   "source": [
    "## Instantiate Dask dashboard to monitor code execution\n",
    "client = Client(n_workers=4, threads_per_worker=2, memory_limit='2GB')\n",
    "# client = Client()\n",
    "client"
   ]
  },
  {
   "cell_type": "markdown",
   "metadata": {},
   "source": [
    "# Load Data"
   ]
  },
  {
   "cell_type": "markdown",
   "metadata": {},
   "source": [
    "Source: [Kaggle](https://www.kaggle.com/mlg-ulb/creditcardfraud)\n",
    "\n",
    "---\n",
    "\n",
    "From the data source:\n",
    "\n",
    ">Features V1, V2, … V28 are the principal components obtained with PCA, the only features which have not been transformed with PCA are 'Time' and 'Amount'. Feature 'Time' contains the seconds elapsed between each transaction and the first transaction in the dataset. The feature 'Amount' is the transaction Amount, this feature can be used for example-dependant cost-senstive learning. Feature 'Class' is the response variable and it takes value 1 in case of fraud and 0 otherwise."
   ]
  },
  {
   "cell_type": "code",
   "execution_count": 5,
   "metadata": {},
   "outputs": [
    {
     "data": {
      "text/html": [
       "<div>\n",
       "<style scoped>\n",
       "    .dataframe tbody tr th:only-of-type {\n",
       "        vertical-align: middle;\n",
       "    }\n",
       "\n",
       "    .dataframe tbody tr th {\n",
       "        vertical-align: top;\n",
       "    }\n",
       "\n",
       "    .dataframe thead th {\n",
       "        text-align: right;\n",
       "    }\n",
       "</style>\n",
       "<table border=\"1\" class=\"dataframe\">\n",
       "  <thead>\n",
       "    <tr style=\"text-align: right;\">\n",
       "      <th></th>\n",
       "      <th>Time</th>\n",
       "      <th>V1</th>\n",
       "      <th>V2</th>\n",
       "      <th>V3</th>\n",
       "      <th>V4</th>\n",
       "      <th>V5</th>\n",
       "      <th>V6</th>\n",
       "      <th>V7</th>\n",
       "      <th>V8</th>\n",
       "      <th>V9</th>\n",
       "      <th>...</th>\n",
       "      <th>V21</th>\n",
       "      <th>V22</th>\n",
       "      <th>V23</th>\n",
       "      <th>V24</th>\n",
       "      <th>V25</th>\n",
       "      <th>V26</th>\n",
       "      <th>V27</th>\n",
       "      <th>V28</th>\n",
       "      <th>Amount</th>\n",
       "      <th>Class</th>\n",
       "    </tr>\n",
       "  </thead>\n",
       "  <tbody>\n",
       "    <tr>\n",
       "      <th>0</th>\n",
       "      <td>0.0</td>\n",
       "      <td>-1.359807</td>\n",
       "      <td>-0.072781</td>\n",
       "      <td>2.536347</td>\n",
       "      <td>1.378155</td>\n",
       "      <td>-0.338321</td>\n",
       "      <td>0.462388</td>\n",
       "      <td>0.239599</td>\n",
       "      <td>0.098698</td>\n",
       "      <td>0.363787</td>\n",
       "      <td>...</td>\n",
       "      <td>-0.018307</td>\n",
       "      <td>0.277838</td>\n",
       "      <td>-0.110474</td>\n",
       "      <td>0.066928</td>\n",
       "      <td>0.128539</td>\n",
       "      <td>-0.189115</td>\n",
       "      <td>0.133558</td>\n",
       "      <td>-0.021053</td>\n",
       "      <td>149.62</td>\n",
       "      <td>0</td>\n",
       "    </tr>\n",
       "    <tr>\n",
       "      <th>1</th>\n",
       "      <td>0.0</td>\n",
       "      <td>1.191857</td>\n",
       "      <td>0.266151</td>\n",
       "      <td>0.166480</td>\n",
       "      <td>0.448154</td>\n",
       "      <td>0.060018</td>\n",
       "      <td>-0.082361</td>\n",
       "      <td>-0.078803</td>\n",
       "      <td>0.085102</td>\n",
       "      <td>-0.255425</td>\n",
       "      <td>...</td>\n",
       "      <td>-0.225775</td>\n",
       "      <td>-0.638672</td>\n",
       "      <td>0.101288</td>\n",
       "      <td>-0.339846</td>\n",
       "      <td>0.167170</td>\n",
       "      <td>0.125895</td>\n",
       "      <td>-0.008983</td>\n",
       "      <td>0.014724</td>\n",
       "      <td>2.69</td>\n",
       "      <td>0</td>\n",
       "    </tr>\n",
       "    <tr>\n",
       "      <th>2</th>\n",
       "      <td>1.0</td>\n",
       "      <td>-1.358354</td>\n",
       "      <td>-1.340163</td>\n",
       "      <td>1.773209</td>\n",
       "      <td>0.379780</td>\n",
       "      <td>-0.503198</td>\n",
       "      <td>1.800499</td>\n",
       "      <td>0.791461</td>\n",
       "      <td>0.247676</td>\n",
       "      <td>-1.514654</td>\n",
       "      <td>...</td>\n",
       "      <td>0.247998</td>\n",
       "      <td>0.771679</td>\n",
       "      <td>0.909412</td>\n",
       "      <td>-0.689281</td>\n",
       "      <td>-0.327642</td>\n",
       "      <td>-0.139097</td>\n",
       "      <td>-0.055353</td>\n",
       "      <td>-0.059752</td>\n",
       "      <td>378.66</td>\n",
       "      <td>0</td>\n",
       "    </tr>\n",
       "    <tr>\n",
       "      <th>3</th>\n",
       "      <td>1.0</td>\n",
       "      <td>-0.966272</td>\n",
       "      <td>-0.185226</td>\n",
       "      <td>1.792993</td>\n",
       "      <td>-0.863291</td>\n",
       "      <td>-0.010309</td>\n",
       "      <td>1.247203</td>\n",
       "      <td>0.237609</td>\n",
       "      <td>0.377436</td>\n",
       "      <td>-1.387024</td>\n",
       "      <td>...</td>\n",
       "      <td>-0.108300</td>\n",
       "      <td>0.005274</td>\n",
       "      <td>-0.190321</td>\n",
       "      <td>-1.175575</td>\n",
       "      <td>0.647376</td>\n",
       "      <td>-0.221929</td>\n",
       "      <td>0.062723</td>\n",
       "      <td>0.061458</td>\n",
       "      <td>123.50</td>\n",
       "      <td>0</td>\n",
       "    </tr>\n",
       "    <tr>\n",
       "      <th>4</th>\n",
       "      <td>2.0</td>\n",
       "      <td>-1.158233</td>\n",
       "      <td>0.877737</td>\n",
       "      <td>1.548718</td>\n",
       "      <td>0.403034</td>\n",
       "      <td>-0.407193</td>\n",
       "      <td>0.095921</td>\n",
       "      <td>0.592941</td>\n",
       "      <td>-0.270533</td>\n",
       "      <td>0.817739</td>\n",
       "      <td>...</td>\n",
       "      <td>-0.009431</td>\n",
       "      <td>0.798278</td>\n",
       "      <td>-0.137458</td>\n",
       "      <td>0.141267</td>\n",
       "      <td>-0.206010</td>\n",
       "      <td>0.502292</td>\n",
       "      <td>0.219422</td>\n",
       "      <td>0.215153</td>\n",
       "      <td>69.99</td>\n",
       "      <td>0</td>\n",
       "    </tr>\n",
       "  </tbody>\n",
       "</table>\n",
       "<p>5 rows × 31 columns</p>\n",
       "</div>"
      ],
      "text/plain": [
       "   Time        V1        V2        V3        V4        V5        V6        V7  \\\n",
       "0   0.0 -1.359807 -0.072781  2.536347  1.378155 -0.338321  0.462388  0.239599   \n",
       "1   0.0  1.191857  0.266151  0.166480  0.448154  0.060018 -0.082361 -0.078803   \n",
       "2   1.0 -1.358354 -1.340163  1.773209  0.379780 -0.503198  1.800499  0.791461   \n",
       "3   1.0 -0.966272 -0.185226  1.792993 -0.863291 -0.010309  1.247203  0.237609   \n",
       "4   2.0 -1.158233  0.877737  1.548718  0.403034 -0.407193  0.095921  0.592941   \n",
       "\n",
       "         V8        V9  ...       V21       V22       V23       V24       V25  \\\n",
       "0  0.098698  0.363787  ... -0.018307  0.277838 -0.110474  0.066928  0.128539   \n",
       "1  0.085102 -0.255425  ... -0.225775 -0.638672  0.101288 -0.339846  0.167170   \n",
       "2  0.247676 -1.514654  ...  0.247998  0.771679  0.909412 -0.689281 -0.327642   \n",
       "3  0.377436 -1.387024  ... -0.108300  0.005274 -0.190321 -1.175575  0.647376   \n",
       "4 -0.270533  0.817739  ... -0.009431  0.798278 -0.137458  0.141267 -0.206010   \n",
       "\n",
       "        V26       V27       V28  Amount  Class  \n",
       "0 -0.189115  0.133558 -0.021053  149.62      0  \n",
       "1  0.125895 -0.008983  0.014724    2.69      0  \n",
       "2 -0.139097 -0.055353 -0.059752  378.66      0  \n",
       "3 -0.221929  0.062723  0.061458  123.50      0  \n",
       "4  0.502292  0.219422  0.215153   69.99      0  \n",
       "\n",
       "[5 rows x 31 columns]"
      ]
     },
     "execution_count": 5,
     "metadata": {},
     "output_type": "execute_result"
    }
   ],
   "source": [
    "# Dataframes implement the Pandas API\n",
    "import dask.dataframe as dd\n",
    "\n",
    "# Load data into Dask dataframe\n",
    "link = 'creditcard.csv'\n",
    "df = dd.read_csv(link, dtype={'Time': 'float64'})\n",
    "df.head()"
   ]
  },
  {
   "cell_type": "markdown",
   "metadata": {},
   "source": [
    "## 1. Train machine learning models from scikit-learn using Dask as the backend of joblib. \n",
    "\n",
    ">Use all of the variables except `Class` as the feature set.\n",
    "\n",
    ">Let `Class`be the target variable."
   ]
  },
  {
   "cell_type": "code",
   "execution_count": 6,
   "metadata": {},
   "outputs": [
    {
     "data": {
      "text/plain": [
       "Dask Series Structure:\n",
       "npartitions=3\n",
       "    int64\n",
       "      ...\n",
       "      ...\n",
       "      ...\n",
       "Name: Class, dtype: int64\n",
       "Dask Name: split, 3 tasks"
      ]
     },
     "execution_count": 6,
     "metadata": {},
     "output_type": "execute_result"
    }
   ],
   "source": [
    "# Target variable\n",
    "Y = df[\"Class\"]\n",
    "\n",
    "# Feature set\n",
    "X = df.drop(columns=[\"Class\"])\n",
    "\n",
    "# Split the data\n",
    "X_train, X_test, y_train, y_test = train_test_split(X, Y, test_size=0.2)\n",
    "\n",
    "# If the data can fit into memory, persist to RAM for faster runtimes\n",
    "X_train.persist()\n",
    "X_test.persist()\n",
    "y_train.persist()\n",
    "y_test.persist()"
   ]
  },
  {
   "cell_type": "markdown",
   "metadata": {},
   "source": [
    "### Random Forest Classifier"
   ]
  },
  {
   "cell_type": "code",
   "execution_count": 7,
   "metadata": {
    "scrolled": true
   },
   "outputs": [
    {
     "name": "stdout",
     "output_type": "stream",
     "text": [
      "Fitting 3 folds for each of 2 candidates, totalling 6 fits\n"
     ]
    },
    {
     "name": "stderr",
     "output_type": "stream",
     "text": [
      "[Parallel(n_jobs=-1)]: Using backend DaskDistributedBackend with 8 concurrent workers.\n",
      "[Parallel(n_jobs=-1)]: Done   2 out of   6 | elapsed:  2.8min remaining:  5.6min\n",
      "[Parallel(n_jobs=-1)]: Done   3 out of   6 | elapsed:  2.9min remaining:  2.9min\n",
      "[Parallel(n_jobs=-1)]: Done   4 out of   6 | elapsed:  2.9min remaining:  1.5min\n",
      "[Parallel(n_jobs=-1)]: Done   6 out of   6 | elapsed:  3.1min remaining:    0.0s\n",
      "[Parallel(n_jobs=-1)]: Done   6 out of   6 | elapsed:  3.1min finished\n"
     ]
    }
   ],
   "source": [
    "t_start = time.clock()\n",
    "\n",
    "\n",
    "## Input Parameters\n",
    "param_grid = {\n",
    "    'max_depth': [2, 6],\n",
    "    'n_jobs': [-1],\n",
    "}\n",
    "\n",
    "\n",
    "## Instantiate model. Prform Cross Validation to tune params\n",
    "model = GridSearchCV(\n",
    "    estimator=RandomForestClassifier(),\n",
    "    param_grid=param_grid,\n",
    "    n_jobs=-1,\n",
    "    verbose=10,\n",
    "    cv=3,\n",
    "    scoring='roc_auc',\n",
    ")\n",
    "# Parallelize model fitting by using Dask as the backend of joblib\n",
    "with joblib.parallel_backend('dask'):\n",
    "    model.fit(X_train.compute(), y_train.compute())\n",
    "\n",
    "\n",
    "## Make predictions\n",
    "pred_test = model.predict(X_test.values.compute())\n",
    "\n",
    "\n",
    "## Get Elapsed Time\n",
    "t = time.clock() - t_start"
   ]
  },
  {
   "cell_type": "code",
   "execution_count": 8,
   "metadata": {},
   "outputs": [
    {
     "name": "stdout",
     "output_type": "stream",
     "text": [
      "** Random Forest Classifier **\n",
      "Runtime: 19.9182 seconds\n",
      "--  -- -- -- -- -- -- -- -- -- --\n",
      "Best parameters: {'max_depth': 2, 'n_jobs': -1}\n",
      "ROC AUC Test score: 0.9137112592420225\n"
     ]
    }
   ],
   "source": [
    "print(\"** Random Forest Classifier **\")\n",
    "if t >= 60**2:\n",
    "    print(f\"Runtime: {t/60**2 :0.1f} hours\")\n",
    "elif t >= 60.0:\n",
    "    print(f\"Runtime: {t/60 :0.1f} minutes\")\n",
    "else:\n",
    "  print(f\"Runtime: {t :0.4f} seconds\")\n",
    "print('--', ' --'*10)\n",
    "print(f\"Best parameters: {model.best_params_}\")\n",
    "print(f\"ROC AUC Test score: {roc_auc_score(pred_test, y_test.values.compute())}\")"
   ]
  },
  {
   "cell_type": "markdown",
   "metadata": {},
   "source": [
    "### Logistic Regression"
   ]
  },
  {
   "cell_type": "code",
   "execution_count": 9,
   "metadata": {},
   "outputs": [
    {
     "name": "stdout",
     "output_type": "stream",
     "text": [
      "Fitting 3 folds for each of 2 candidates, totalling 6 fits\n"
     ]
    },
    {
     "name": "stderr",
     "output_type": "stream",
     "text": [
      "[Parallel(n_jobs=-1)]: Using backend DaskDistributedBackend with 8 concurrent workers.\n",
      "[Parallel(n_jobs=-1)]: Done   2 out of   6 | elapsed:   23.9s remaining:   47.9s\n",
      "[Parallel(n_jobs=-1)]: Done   3 out of   6 | elapsed:   26.1s remaining:   26.1s\n",
      "[Parallel(n_jobs=-1)]: Done   4 out of   6 | elapsed:   28.9s remaining:   14.5s\n",
      "[Parallel(n_jobs=-1)]: Done   6 out of   6 | elapsed:   32.9s remaining:    0.0s\n",
      "[Parallel(n_jobs=-1)]: Done   6 out of   6 | elapsed:   32.9s finished\n"
     ]
    }
   ],
   "source": [
    "t_start = time.clock()\n",
    "\n",
    "\n",
    "## Input Parameters\n",
    "param_grid = {\n",
    "    'max_iter': [100, 150],\n",
    "    'n_jobs': [-1],\n",
    "}\n",
    "\n",
    "\n",
    "## Instantiate model. Prform Cross Validation to tune params\n",
    "model = GridSearchCV(\n",
    "    estimator=LogisticRegression(),\n",
    "    param_grid=param_grid,\n",
    "    n_jobs=-1,\n",
    "    verbose=10,\n",
    "    cv=3,\n",
    "    scoring='roc_auc',\n",
    ")\n",
    "# Parallelize model fitting by using Dask as the backend of joblib\n",
    "with joblib.parallel_backend('dask'):\n",
    "    model.fit(X_train.compute(), y_train.compute())\n",
    "\n",
    "\n",
    "## Make predictions\n",
    "pred_test = model.predict(X_test.values.compute())\n",
    "\n",
    "\n",
    "## Get Elapsed Time\n",
    "t = time.clock() - t_start"
   ]
  },
  {
   "cell_type": "code",
   "execution_count": 10,
   "metadata": {},
   "outputs": [
    {
     "name": "stdout",
     "output_type": "stream",
     "text": [
      "** Logistic Regression **\n",
      "Runtime: 5.2078 seconds\n",
      "--  -- -- -- -- -- -- -- -- -- --\n",
      "Best parameters: {'max_iter': 150, 'n_jobs': -1}\n",
      "Test score: 0.8731190882055628\n"
     ]
    }
   ],
   "source": [
    "print(\"** Logistic Regression **\")\n",
    "if t >= 60**2:\n",
    "    print(f\"Runtime: {t/60**2 :0.1f} hours\")\n",
    "elif t >= 60.0:\n",
    "    print(f\"Runtime: {t/60 :0.1f} minutes\")\n",
    "else:\n",
    "  print(f\"Runtime: {t :0.4f} seconds\")\n",
    "print('--', ' --'*10)\n",
    "print(f\"Best parameters: {model.best_params_}\")\n",
    "print(f\"Test score: {roc_auc_score(pred_test, y_test.values.compute())}\")"
   ]
  },
  {
   "cell_type": "markdown",
   "metadata": {},
   "source": [
    "## 2. Compare the results of the models."
   ]
  },
  {
   "cell_type": "markdown",
   "metadata": {},
   "source": [
    "Although the Random Forest Classifier had a longer runtime, it performed better when making predictions based on its ROC-AUC score."
   ]
  },
  {
   "cell_type": "code",
   "execution_count": 11,
   "metadata": {
    "scrolled": true
   },
   "outputs": [
    {
     "name": "stderr",
     "output_type": "stream",
     "text": [
      "distributed.nanny - WARNING - Worker process still alive after 3 seconds, killing\n",
      "distributed.nanny - WARNING - Worker process still alive after 3 seconds, killing\n",
      "distributed.nanny - WARNING - Worker process still alive after 3 seconds, killing\n",
      "distributed.nanny - WARNING - Worker process still alive after 3 seconds, killing\n"
     ]
    }
   ],
   "source": [
    "client.close()"
   ]
  }
 ],
 "metadata": {
  "kernelspec": {
   "display_name": "Python 3",
   "language": "python",
   "name": "python3"
  },
  "language_info": {
   "codemirror_mode": {
    "name": "ipython",
    "version": 3
   },
   "file_extension": ".py",
   "mimetype": "text/x-python",
   "name": "python",
   "nbconvert_exporter": "python",
   "pygments_lexer": "ipython3",
   "version": "3.7.6"
  }
 },
 "nbformat": 4,
 "nbformat_minor": 4
}

{
  "nbformat": 4,
  "nbformat_minor": 0,
  "metadata": {
    "colab": {
      "name": "intro_to_dask.ipynb",
      "provenance": [],
      "collapsed_sections": [],
      "authorship_tag": "ABX9TyPKKMTTN7ptj/zL4t9W2Ixb",
      "include_colab_link": true
    },
    "kernelspec": {
      "name": "python3",
      "display_name": "Python 3"
    }
  },
  "cells": [
    {
      "cell_type": "markdown",
      "metadata": {
        "id": "view-in-github",
        "colab_type": "text"
      },
      "source": [
        "<a href=\"https://colab.research.google.com/github/devid-davops/Learning-Dask/blob/master/intro_to_dask.ipynb\" target=\"_parent\"><img src=\"https://colab.research.google.com/assets/colab-badge.svg\" alt=\"Open In Colab\"/></a>"
      ]
    },
    {
      "cell_type": "markdown",
      "metadata": {
        "id": "hw4HPDZnifVU",
        "colab_type": "text"
      },
      "source": [
        "# Big Data\n",
        "\n",
        "### Introduction to Dask\n",
        "\n",
        "* David Booker-Earley\n",
        "* 6/1/2020\n",
        "<!-- * Checkpoint 2, Module 37 -->\n",
        "\n",
        "---"
      ]
    },
    {
      "cell_type": "markdown",
      "metadata": {
        "id": "a_A6DN_rlO5h",
        "colab_type": "text"
      },
      "source": [
        "## Installation"
      ]
    },
    {
      "cell_type": "code",
      "metadata": {
        "id": "-rdCq72_lmmd",
        "colab_type": "code",
        "colab": {
          "base_uri": "https://localhost:8080/",
          "height": 1000
        },
        "outputId": "c653f8b6-ae3d-4b04-952b-c98a27393a4a"
      },
      "source": [
        "!pip install --upgrade \"dask[complete]\""
      ],
      "execution_count": 1,
      "outputs": [
        {
          "output_type": "stream",
          "text": [
            "Collecting dask[complete]\n",
            "\u001b[?25l  Downloading https://files.pythonhosted.org/packages/c4/1c/64d277a1aa181ff845327c7ad405f020c58543be005b9bc252f2141d8110/dask-2.17.2-py3-none-any.whl (813kB)\n",
            "\u001b[K     |████████████████████████████████| 819kB 3.4MB/s \n",
            "\u001b[?25hRequirement already satisfied, skipping upgrade: pyyaml in /usr/local/lib/python3.6/dist-packages (from dask[complete]) (3.13)\n",
            "Collecting distributed>=2.0; extra == \"complete\"\n",
            "\u001b[?25l  Downloading https://files.pythonhosted.org/packages/40/43/7f0181ff095961f99f436ab0b97239f07f4accb67837783f7ddddb414f32/distributed-2.17.0-py3-none-any.whl (638kB)\n",
            "\u001b[K     |████████████████████████████████| 645kB 15.1MB/s \n",
            "\u001b[?25hRequirement already satisfied, skipping upgrade: numpy>=1.13.0; extra == \"complete\" in /usr/local/lib/python3.6/dist-packages (from dask[complete]) (1.18.4)\n",
            "Requirement already satisfied, skipping upgrade: fsspec>=0.6.0; extra == \"complete\" in /usr/local/lib/python3.6/dist-packages (from dask[complete]) (0.7.4)\n",
            "Collecting partd>=0.3.10; extra == \"complete\"\n",
            "  Downloading https://files.pythonhosted.org/packages/44/e1/68dbe731c9c067655bff1eca5b7d40c20ca4b23fd5ec9f3d17e201a6f36b/partd-1.1.0-py3-none-any.whl\n",
            "Requirement already satisfied, skipping upgrade: pandas>=0.23.0; extra == \"complete\" in /usr/local/lib/python3.6/dist-packages (from dask[complete]) (1.0.3)\n",
            "Requirement already satisfied, skipping upgrade: cloudpickle>=0.2.2; extra == \"complete\" in /usr/local/lib/python3.6/dist-packages (from dask[complete]) (1.3.0)\n",
            "Requirement already satisfied, skipping upgrade: bokeh>=1.0.0; extra == \"complete\" in /usr/local/lib/python3.6/dist-packages (from dask[complete]) (1.4.0)\n",
            "Requirement already satisfied, skipping upgrade: toolz>=0.8.2; extra == \"complete\" in /usr/local/lib/python3.6/dist-packages (from dask[complete]) (0.10.0)\n",
            "Requirement already satisfied, skipping upgrade: tblib>=1.6.0 in /usr/local/lib/python3.6/dist-packages (from distributed>=2.0; extra == \"complete\"->dask[complete]) (1.6.0)\n",
            "Requirement already satisfied, skipping upgrade: zict>=0.1.3 in /usr/local/lib/python3.6/dist-packages (from distributed>=2.0; extra == \"complete\"->dask[complete]) (2.0.0)\n",
            "Requirement already satisfied, skipping upgrade: psutil>=5.0 in /usr/local/lib/python3.6/dist-packages (from distributed>=2.0; extra == \"complete\"->dask[complete]) (5.4.8)\n",
            "Requirement already satisfied, skipping upgrade: msgpack>=0.6.0 in /usr/local/lib/python3.6/dist-packages (from distributed>=2.0; extra == \"complete\"->dask[complete]) (1.0.0)\n",
            "Requirement already satisfied, skipping upgrade: sortedcontainers!=2.0.0,!=2.0.1 in /usr/local/lib/python3.6/dist-packages (from distributed>=2.0; extra == \"complete\"->dask[complete]) (2.1.0)\n",
            "Requirement already satisfied, skipping upgrade: setuptools in /usr/local/lib/python3.6/dist-packages (from distributed>=2.0; extra == \"complete\"->dask[complete]) (47.1.1)\n",
            "Requirement already satisfied, skipping upgrade: click>=6.6 in /usr/local/lib/python3.6/dist-packages (from distributed>=2.0; extra == \"complete\"->dask[complete]) (7.1.2)\n",
            "Collecting contextvars; python_version < \"3.7\"\n",
            "  Downloading https://files.pythonhosted.org/packages/83/96/55b82d9f13763be9d672622e1b8106c85acb83edd7cc2fa5bc67cd9877e9/contextvars-2.4.tar.gz\n",
            "Collecting tornado>=5; python_version < \"3.8\"\n",
            "\u001b[?25l  Downloading https://files.pythonhosted.org/packages/95/84/119a46d494f008969bf0c775cb2c6b3579d3c4cc1bb1b41a022aa93ee242/tornado-6.0.4.tar.gz (496kB)\n",
            "\u001b[K     |████████████████████████████████| 501kB 19.8MB/s \n",
            "\u001b[?25hCollecting locket\n",
            "  Downloading https://files.pythonhosted.org/packages/d0/22/3c0f97614e0be8386542facb3a7dcfc2584f7b83608c02333bced641281c/locket-0.2.0.tar.gz\n",
            "Requirement already satisfied, skipping upgrade: pytz>=2017.2 in /usr/local/lib/python3.6/dist-packages (from pandas>=0.23.0; extra == \"complete\"->dask[complete]) (2018.9)\n",
            "Requirement already satisfied, skipping upgrade: python-dateutil>=2.6.1 in /usr/local/lib/python3.6/dist-packages (from pandas>=0.23.0; extra == \"complete\"->dask[complete]) (2.8.1)\n",
            "Requirement already satisfied, skipping upgrade: packaging>=16.8 in /usr/local/lib/python3.6/dist-packages (from bokeh>=1.0.0; extra == \"complete\"->dask[complete]) (20.4)\n",
            "Requirement already satisfied, skipping upgrade: pillow>=4.0 in /usr/local/lib/python3.6/dist-packages (from bokeh>=1.0.0; extra == \"complete\"->dask[complete]) (7.0.0)\n",
            "Requirement already satisfied, skipping upgrade: Jinja2>=2.7 in /usr/local/lib/python3.6/dist-packages (from bokeh>=1.0.0; extra == \"complete\"->dask[complete]) (2.11.2)\n",
            "Requirement already satisfied, skipping upgrade: six>=1.5.2 in /usr/local/lib/python3.6/dist-packages (from bokeh>=1.0.0; extra == \"complete\"->dask[complete]) (1.12.0)\n",
            "Requirement already satisfied, skipping upgrade: heapdict in /usr/local/lib/python3.6/dist-packages (from zict>=0.1.3->distributed>=2.0; extra == \"complete\"->dask[complete]) (1.0.1)\n",
            "Collecting immutables>=0.9\n",
            "\u001b[?25l  Downloading https://files.pythonhosted.org/packages/99/e0/ea6fd4697120327d26773b5a84853f897a68e33d3f9376b00a8ff96e4f63/immutables-0.14-cp36-cp36m-manylinux1_x86_64.whl (98kB)\n",
            "\u001b[K     |████████████████████████████████| 102kB 8.8MB/s \n",
            "\u001b[?25hRequirement already satisfied, skipping upgrade: pyparsing>=2.0.2 in /usr/local/lib/python3.6/dist-packages (from packaging>=16.8->bokeh>=1.0.0; extra == \"complete\"->dask[complete]) (2.4.7)\n",
            "Requirement already satisfied, skipping upgrade: MarkupSafe>=0.23 in /usr/local/lib/python3.6/dist-packages (from Jinja2>=2.7->bokeh>=1.0.0; extra == \"complete\"->dask[complete]) (1.1.1)\n",
            "Building wheels for collected packages: contextvars, tornado, locket\n",
            "  Building wheel for contextvars (setup.py) ... \u001b[?25l\u001b[?25hdone\n",
            "  Created wheel for contextvars: filename=contextvars-2.4-cp36-none-any.whl size=7666 sha256=0a67a74d5b9e54700e7be0910ab7e8fc1fdc59e2daeff80fc4169c7c5cf1a0c3\n",
            "  Stored in directory: /root/.cache/pip/wheels/a5/7d/68/1ebae2668bda2228686e3c1cf16f2c2384cea6e9334ad5f6de\n",
            "  Building wheel for tornado (setup.py) ... \u001b[?25l\u001b[?25hdone\n",
            "  Created wheel for tornado: filename=tornado-6.0.4-cp36-cp36m-linux_x86_64.whl size=427628 sha256=48c4c1c1f788f8f4e9d9da5a7eea5597a284e2d9369bfe68cc27b98476b7af37\n",
            "  Stored in directory: /root/.cache/pip/wheels/93/84/2f/409c7b2bb3afc3aa727f7ee8787975e0793f74d1165f4d0104\n",
            "  Building wheel for locket (setup.py) ... \u001b[?25l\u001b[?25hdone\n",
            "  Created wheel for locket: filename=locket-0.2.0-cp36-none-any.whl size=4040 sha256=3e432c13ac0769bd49e2ef9baf4303d682f7e210fe2e4afd34127261b34d2614\n",
            "  Stored in directory: /root/.cache/pip/wheels/26/1e/e8/4fa236ec931b1a0cdd61578e20d4934d7bf188858723b84698\n",
            "Successfully built contextvars tornado locket\n",
            "Installing collected packages: immutables, contextvars, tornado, distributed, locket, partd, dask\n",
            "  Found existing installation: tornado 4.5.3\n",
            "    Uninstalling tornado-4.5.3:\n",
            "      Successfully uninstalled tornado-4.5.3\n",
            "  Found existing installation: distributed 1.25.3\n",
            "    Uninstalling distributed-1.25.3:\n",
            "      Successfully uninstalled distributed-1.25.3\n",
            "  Found existing installation: dask 2.12.0\n",
            "    Uninstalling dask-2.12.0:\n",
            "      Successfully uninstalled dask-2.12.0\n",
            "Successfully installed contextvars-2.4 dask-2.17.2 distributed-2.17.0 immutables-0.14 locket-0.2.0 partd-1.1.0 tornado-6.0.4\n"
          ],
          "name": "stdout"
        },
        {
          "output_type": "display_data",
          "data": {
            "application/vnd.colab-display-data+json": {
              "pip_warning": {
                "packages": [
                  "tornado"
                ]
              }
            }
          },
          "metadata": {
            "tags": []
          }
        }
      ]
    },
    {
      "cell_type": "code",
      "metadata": {
        "id": "-zisXGVjrI4E",
        "colab_type": "code",
        "colab": {}
      },
      "source": [
        "from dask import delayed"
      ],
      "execution_count": 0,
      "outputs": []
    },
    {
      "cell_type": "markdown",
      "metadata": {
        "id": "5h-6RiHkrMrS",
        "colab_type": "text"
      },
      "source": [
        "## Test some code."
      ]
    },
    {
      "cell_type": "code",
      "metadata": {
        "id": "Azrq277xlqFV",
        "colab_type": "code",
        "colab": {
          "base_uri": "https://localhost:8080/",
          "height": 34
        },
        "outputId": "2bec8112-9cd7-49f4-f5a2-a54ef0855be0"
      },
      "source": [
        "@delayed\n",
        "def sum(x, y):\n",
        "  return x + y\n",
        "\n",
        "@delayed\n",
        "def sum_and_squared(x, y):\n",
        "  return (x+y)**2\n",
        "\n",
        "result1 = sum(3,5)\n",
        "result2 = sum(2,4)\n",
        "result = sum_and_squared(result1,result2)\n",
        "\n",
        "result.compute()"
      ],
      "execution_count": 52,
      "outputs": [
        {
          "output_type": "execute_result",
          "data": {
            "text/plain": [
              "196"
            ]
          },
          "metadata": {
            "tags": []
          },
          "execution_count": 52
        }
      ]
    },
    {
      "cell_type": "markdown",
      "metadata": {
        "id": "TLMFSZnKkENx",
        "colab_type": "text"
      },
      "source": [
        "## Parallelize some code using the `@delayed` decorator of Dask, and derive the task execution graph."
      ]
    },
    {
      "cell_type": "markdown",
      "metadata": {
        "id": "lWwD-ZmbweLV",
        "colab_type": "text"
      },
      "source": [
        "### 1. Summing List Items"
      ]
    },
    {
      "cell_type": "code",
      "metadata": {
        "id": "6utmz2Ddhrbc",
        "colab_type": "code",
        "colab": {
          "base_uri": "https://localhost:8080/",
          "height": 34
        },
        "outputId": "877261d4-f1fc-4556-94e1-887905feee36"
      },
      "source": [
        "@delayed\n",
        "def sum_up(v):\n",
        "  '''Returns the sum of list items in list v'''\n",
        "  return sum(v)\n",
        "\n",
        "@delayed\n",
        "def cube(n):\n",
        "  '''Returns the cube item n.'''\n",
        "  return n**3\n",
        "\n",
        "total = []\n",
        "\n",
        "for i in range(1,10):\n",
        "  total.append(cube(i))\n",
        "\n",
        "print(sum_up(total))"
      ],
      "execution_count": 53,
      "outputs": [
        {
          "output_type": "stream",
          "text": [
            "Delayed('sum_up-b0aead90-ecf3-4774-adc0-7c46263b6081')\n"
          ],
          "name": "stdout"
        }
      ]
    },
    {
      "cell_type": "code",
      "metadata": {
        "id": "wDcsIde1q663",
        "colab_type": "code",
        "colab": {
          "base_uri": "https://localhost:8080/",
          "height": 555
        },
        "outputId": "c23d1821-17c3-4040-a2cb-e198e26eeb72"
      },
      "source": [
        "result = sum_up(total)\n",
        "\n",
        "print(result)\n",
        "print()\n",
        "print(\"Compute\")\n",
        "print(result.compute())\n",
        "print()\n",
        "print(\"Visualize\")\n",
        "result.visualize()"
      ],
      "execution_count": 54,
      "outputs": [
        {
          "output_type": "stream",
          "text": [
            "Delayed('sum_up-41114d18-1d2c-4d79-819e-df22db6cb332')\n",
            "\n",
            "Compute\n",
            "Delayed('sum-ed5154fb-b691-4e23-a352-cc9b1dbda2ee')\n",
            "\n",
            "Visualize\n"
          ],
          "name": "stdout"
        },
        {
          "output_type": "execute_result",
          "data": {
            "image/png": "[encoded data removed]",
            "text/plain": [
              "<IPython.core.display.Image object>"
            ]
          },
          "metadata": {
            "tags": []
          },
          "execution_count": 54
        }
      ]
    },
    {
      "cell_type": "markdown",
      "metadata": {
        "id": "2j-9koIYwjcb",
        "colab_type": "text"
      },
      "source": [
        "### 2. Fibonacci Numbers"
      ]
    },
    {
      "cell_type": "code",
      "metadata": {
        "id": "GXVrov4_sT6U",
        "colab_type": "code",
        "colab": {
          "base_uri": "https://localhost:8080/",
          "height": 34
        },
        "outputId": "a9efe9d3-47e9-494d-98f1-154894903c86"
      },
      "source": [
        "# First two fibonacci numbers (excluding zero)\n",
        "fibonacci_nums = [1,1]\n",
        "\n",
        "def get_nth_fibonacci_number(n):\n",
        "  '''Returns the nth fibonacci number.'''\n",
        "  if n == 1:\n",
        "    return fibonacci_nums[0]\n",
        "  elif n == 2:\n",
        "    return fibonacci_nums[1]\n",
        "  else:\n",
        "    return get_nth_fibonacci_number(n-1) + get_nth_fibonacci_number(n-2)\n",
        "\n",
        "print(get_nth_fibonacci_number(10))"
      ],
      "execution_count": 55,
      "outputs": [
        {
          "output_type": "stream",
          "text": [
            "55\n"
          ],
          "name": "stdout"
        }
      ]
    },
    {
      "cell_type": "markdown",
      "metadata": {
        "id": "neg0ve4Ayqhj",
        "colab_type": "text"
      },
      "source": [
        "Use `@delayed` to defer code execution, and place the function and its arguments into a task graph (lazy evaluation)."
      ]
    },
    {
      "cell_type": "code",
      "metadata": {
        "id": "uhsDhkH6yiYc",
        "colab_type": "code",
        "colab": {
          "base_uri": "https://localhost:8080/",
          "height": 34
        },
        "outputId": "043eb32d-e781-45c2-f188-5328af15b997"
      },
      "source": [
        "# First two fibonacci numbers (excluding zero)\n",
        "fibonacci_nums = [1,1]\n",
        "\n",
        "@delayed\n",
        "def get_nth_fibonacci_number(n):\n",
        "  '''Returns the nth fibonacci number.'''\n",
        "  if n == 1:\n",
        "    return fibonacci_nums[0]\n",
        "  elif n == 2:\n",
        "    return fibonacci_nums[1]\n",
        "  else:\n",
        "    return get_nth_fibonacci_number(n-1) + get_nth_fibonacci_number(n-2)\n",
        "\n",
        "print(get_nth_fibonacci_number(10))"
      ],
      "execution_count": 56,
      "outputs": [
        {
          "output_type": "stream",
          "text": [
            "Delayed('get_nth_fibonacci_number-f73b87a4-eff0-4fce-a80f-f6a72dd9d281')\n"
          ],
          "name": "stdout"
        }
      ]
    },
    {
      "cell_type": "code",
      "metadata": {
        "id": "jfTMtH4XzLkZ",
        "colab_type": "code",
        "colab": {}
      },
      "source": [
        "# Assign a variable to the function's output (via lazy evaluation)\n",
        "result = get_nth_fibonacci_number(10)"
      ],
      "execution_count": 0,
      "outputs": []
    },
    {
      "cell_type": "code",
      "metadata": {
        "id": "I2lCJxwKzDYW",
        "colab_type": "code",
        "outputId": "cf6cc0a5-825f-47ca-814b-227a524f6c3e",
        "colab": {
          "base_uri": "https://localhost:8080/",
          "height": 34
        }
      },
      "source": [
        "result.compute()"
      ],
      "execution_count": 58,
      "outputs": [
        {
          "output_type": "execute_result",
          "data": {
            "text/plain": [
              "Delayed('add-ef168d631b9f502bdc526834b91408d6')"
            ]
          },
          "metadata": {
            "tags": []
          },
          "execution_count": 58
        }
      ]
    },
    {
      "cell_type": "code",
      "metadata": {
        "id": "q2hGClBvxuO8",
        "colab_type": "code",
        "outputId": "d7bfa37c-8ca4-4df7-dd1d-72be8fb47543",
        "colab": {
          "base_uri": "https://localhost:8080/",
          "height": 422
        }
      },
      "source": [
        "result.visualize()"
      ],
      "execution_count": 59,
      "outputs": [
        {
          "output_type": "execute_result",
          "data": {
            "image/png": "[encoded data removed]",
            "text/plain": [
              "<IPython.core.display.Image object>"
            ]
          },
          "metadata": {
            "tags": []
          },
          "execution_count": 59
        }
      ]
    }
  ]
}